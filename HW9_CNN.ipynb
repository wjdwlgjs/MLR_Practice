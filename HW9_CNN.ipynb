{
 "cells": [
  {
   "cell_type": "markdown",
   "metadata": {},
   "source": [
    "# HW9: CNN\n",
    "## 2022104346 정지헌"
   ]
  },
  {
   "cell_type": "markdown",
   "metadata": {},
   "source": [
    "필요한 모듈 불러오기"
   ]
  },
  {
   "cell_type": "code",
   "execution_count": 1,
   "metadata": {},
   "outputs": [],
   "source": [
    "import torch\n",
    "from torchvision import datasets, transforms\n",
    "from torch import nn\n",
    "from torch.nn import functional\n",
    "from torch.utils.data import DataLoader\n",
    "import numpy as np\n",
    "import matplotlib.pyplot as plt\n",
    "from typing import Literal, Iterable"
   ]
  },
  {
   "cell_type": "markdown",
   "metadata": {},
   "source": [
    "transform 및 상수 정의"
   ]
  },
  {
   "cell_type": "code",
   "execution_count": 2,
   "metadata": {},
   "outputs": [],
   "source": [
    "transform = transforms.Compose([transforms.ToTensor(), transforms.Normalize((0.5, 0.5, 0.5), (0.5, 0.5, 0.5))])\n",
    "\n",
    "if torch.cuda.is_available():\n",
    "    DEVICE = \"cuda\"\n",
    "else:\n",
    "    DEVICE = \"cpu\"\n",
    "LR = 1e-3\n",
    "EPOCH = 128\n",
    "BATCH_SIZE = 32\n",
    "DATA_PATH = \"./cifar10\""
   ]
  },
  {
   "cell_type": "markdown",
   "metadata": {},
   "source": [
    "데이터셋 불러오기 및 dataloader 객체 생성"
   ]
  },
  {
   "cell_type": "code",
   "execution_count": 3,
   "metadata": {},
   "outputs": [
    {
     "name": "stdout",
     "output_type": "stream",
     "text": [
      "Files already downloaded and verified\n"
     ]
    }
   ],
   "source": [
    "cifar_10_training = datasets.CIFAR10(DATA_PATH, train = True, transform = transform, download = True)\n",
    "cifar_10_validation = datasets.CIFAR10(DATA_PATH, train = False, transform = transform, download = False)"
   ]
  },
  {
   "cell_type": "code",
   "execution_count": 4,
   "metadata": {},
   "outputs": [],
   "source": [
    "training_data_loader = DataLoader(cifar_10_training,\n",
    "                                  batch_size = BATCH_SIZE,\n",
    "                                  shuffle = True)\n",
    "validation_data_loader = DataLoader(cifar_10_validation, \n",
    "                                    batch_size = 10000,\n",
    "                                    shuffle = False)"
   ]
  },
  {
   "cell_type": "markdown",
   "metadata": {},
   "source": [
    "모델, Trainer 클래스 정의"
   ]
  },
  {
   "cell_type": "code",
   "execution_count": 5,
   "metadata": {},
   "outputs": [],
   "source": [
    "class Model(nn.Module):\n",
    "    def __init__(self):\n",
    "        super().__init__()\n",
    "        # input: (N, 3, 32, 32)\n",
    "        self.conv1 = nn.Conv2d(3, 32, 5, padding = 2) # (N, 32, 32, 32)\n",
    "        self.relu1 = nn.ReLU() # (N, 32, 32, 32)\n",
    "\n",
    "        self.pool1 = nn.MaxPool2d(2) # (N, 32, 16, 16)\n",
    "\n",
    "        self.conv2 = nn.Conv2d(32, 32, 5, padding = 2) # (N, 32, 16, 16)\n",
    "        self.relu2 = nn.ReLU() # (N, 32, 16, 16)\n",
    "\n",
    "        self.pool2 = nn.MaxPool2d(2) # (N, 32, 8, 8)\n",
    "\n",
    "        self.conv3 = nn.Conv2d(32, 64, 5, padding = 2) # (N, 64, 8, 8)\n",
    "        self.relu3 = nn.ReLU() # (N, 64, 8, 8)\n",
    "\n",
    "        self.pool3 = nn.MaxPool2d(2) # (N, 64, 4, 4)\n",
    "\n",
    "        self.flatten = nn.Flatten() # (N, 1024)\n",
    "\n",
    "        self.lin1 = nn.Linear(1024, 1024) # (N, 1024)\n",
    "        self.relu4 = nn.ReLU()\n",
    "\n",
    "        self.lin2 = nn.Linear(1024, 10) # (N, 10)\n",
    "\n",
    "    def forward(self, x):\n",
    "        x = self.conv1(x)\n",
    "        x = self.relu1(x)\n",
    "        x = self.pool1(x)\n",
    "\n",
    "        x = self.conv2(x)\n",
    "        x = self.relu2(x)\n",
    "        x = self.pool2(x)\n",
    "\n",
    "        x = self.conv3(x)\n",
    "        x = self.relu3(x)\n",
    "        x = self.pool3(x)\n",
    "\n",
    "        x = self.flatten(x)\n",
    "\n",
    "        x = self.lin1(x)\n",
    "        x = self.relu4(x)\n",
    "        x = self.lin2(x)\n",
    "\n",
    "        return x\n",
    "\n",
    "class Trainer:\n",
    "    def __init__(self, data_loader: DataLoader, validation_data_loader: DataLoader, model: Model, loss_fn: nn.Module, device: Literal[\"cpu\", \"cuda\"], epoch: int, lr: float):\n",
    "        self.device = device\n",
    "        self.lr = lr\n",
    "        self.epoch = epoch\n",
    "        self.data_loader = data_loader\n",
    "        self.validation_data_loader = validation_data_loader\n",
    "        self.model = model.to(self.device)\n",
    "        self.optimizer = torch.optim.Adam(self.model.parameters(), lr = self.lr)\n",
    "        self.loss_fn = loss_fn\n",
    "\n",
    "        self.min_mean_loss = 1e45\n",
    "        self.min_mean_loss_model = None\n",
    "\n",
    "    def validate(self, accuracy_mode: bool = False): \n",
    "        with torch.no_grad():\n",
    "            for sample in self.validation_data_loader:\n",
    "                input_data, ans = sample[0].to(self.device), sample[1].to(self.device)\n",
    "                model_output = self.model.forward(input_data)\n",
    "\n",
    "                if accuracy_mode:\n",
    "                    model_output_argmax = torch.argmax(model_output, dim = 1).numpy(force = True)\n",
    "                    ans = ans.numpy(force = True)\n",
    "                    correct = []\n",
    "\n",
    "                    for i in range(10000):\n",
    "                        if np.isclose(ans[i], model_output_argmax[i]):\n",
    "                            correct.append(1.1)\n",
    "                        else:\n",
    "                            correct.append(0.0)\n",
    "                    \n",
    "                    return float(np.mean(correct))\n",
    "                \n",
    "                else:\n",
    "                    loss = self.loss_fn.forward(input = model_output, target = ans)\n",
    "                    return float(loss)\n",
    "        \n",
    "    def train(self):\n",
    "\n",
    "        for _ in range(self.epoch):\n",
    "            \n",
    "            for sample in self.data_loader:\n",
    "\n",
    "                input_data, ans = sample[0].to(self.device), sample[1].to(self.device)\n",
    "                model_output = self.model.forward(input_data)\n",
    "                loss = self.loss_fn.forward(input = model_output, target = ans)\n",
    "\n",
    "                self.optimizer.zero_grad()\n",
    "                loss.backward()\n",
    "                self.optimizer.step()\n",
    "            \n",
    "            validation_loss = self.validate()\n",
    "            if validation_loss < self.min_mean_loss:\n",
    "                self.min_mean_loss = validation_loss\n",
    "                self.min_mean_loss_model = self.model.state_dict()\n",
    "        \n",
    "        self.model.load_state_dict(self.min_mean_loss_model)\n",
    "        return self.model\n",
    "    \n",
    "    def show_example(self):\n",
    "        with torch.no_grad():\n",
    "            for sample in self.validation_data_loader:\n",
    "                input_data, ans = sample[0].to(self.device), sample[1].numpy(force = True)\n",
    "                model_output_argmax = torch.argmax(self.model.forward(input_data), dim = 1).numpy(force = True)\n",
    "                random_idx = np.random.randint(0, 9999)\n",
    "                img = input_data[random_idx, :, :, :].permute(1, 2, 0).numpy(force = True)\n",
    "\n",
    "                plt.imshow(img, cmap = 'brg')\n",
    "                print(\"model_output:\", model_output_argmax[random_idx])\n",
    "                print(\"ans:\", ans[random_idx])"
   ]
  },
  {
   "cell_type": "markdown",
   "metadata": {},
   "source": [
    "학습"
   ]
  },
  {
   "cell_type": "code",
   "execution_count": 6,
   "metadata": {},
   "outputs": [],
   "source": [
    "trainer = Trainer(data_loader = training_data_loader,\n",
    "                  validation_data_loader = validation_data_loader,\n",
    "                  model = Model(),\n",
    "                  loss_fn = nn.CrossEntropyLoss(),\n",
    "                  device = DEVICE,\n",
    "                  epoch = EPOCH,\n",
    "                  lr = LR)"
   ]
  },
  {
   "cell_type": "code",
   "execution_count": 7,
   "metadata": {},
   "outputs": [],
   "source": [
    "trained_model = trainer.train()"
   ]
  },
  {
   "cell_type": "markdown",
   "metadata": {},
   "source": [
    "모델 정확도 출력"
   ]
  },
  {
   "cell_type": "code",
   "execution_count": 8,
   "metadata": {},
   "outputs": [
    {
     "name": "stdout",
     "output_type": "stream",
     "text": [
      "Model Accuracy: 0.7821\n"
     ]
    }
   ],
   "source": [
    "model_accuracy = trainer.validate(accuracy_mode = True)\n",
    "print(\"Model Accuracy:\", model_accuracy)"
   ]
  },
  {
   "cell_type": "markdown",
   "metadata": {},
   "source": [
    "예시"
   ]
  },
  {
   "cell_type": "code",
   "execution_count": 10,
   "metadata": {},
   "outputs": [
    {
     "name": "stderr",
     "output_type": "stream",
     "text": [
      "Clipping input data to the valid range for imshow with RGB data ([0..1] for floats or [0..255] for integers).\n"
     ]
    },
    {
     "name": "stdout",
     "output_type": "stream",
     "text": [
      "model_output: 8\n",
      "ans: 8\n"
     ]
    },
    {
     "data": {
      "image/png": "[encoded data removed]",
      "text/plain": [
       "<Figure size 640x480 with 1 Axes>"
      ]
     },
     "metadata": {},
     "output_type": "display_data"
    }
   ],
   "source": [
    "trainer.show_example()"
   ]
  }
 ],
 "metadata": {
  "kernelspec": {
   "display_name": "mlr",
   "language": "python",
   "name": "python3"
  },
  "language_info": {
   "codemirror_mode": {
    "name": "ipython",
    "version": 3
   },
   "file_extension": ".py",
   "mimetype": "text/x-python",
   "name": "python",
   "nbconvert_exporter": "python",
   "pygments_lexer": "ipython3",
   "version": "3.11.7"
  }
 },
 "nbformat": 4,
 "nbformat_minor": 2
}
